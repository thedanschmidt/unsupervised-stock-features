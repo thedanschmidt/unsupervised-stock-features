{
 "cells": [
  {
   "cell_type": "markdown",
   "metadata": {},
   "source": [
    "# Playing with Minute-Market-Data\n",
    "### Dan Schmidt's Script Fall 2016"
   ]
  },
  {
   "cell_type": "code",
   "execution_count": 1,
   "metadata": {
    "collapsed": true
   },
   "outputs": [],
   "source": [
    "import pandas as pd\n",
    "import numpy as np\n",
    "import matplotlib.pyplot as plt\n",
    "import os.path\n",
    "from IPython.core.debugger import Tracer\n",
    "import scipy as sp\n",
    "import scipy.sparse \n",
    "import scipy.sparse.linalg\n",
    "from sklearn.decomposition import PCA\n",
    "from sklearn import cluster\n",
    "%matplotlib inline"
   ]
  },
  {
   "cell_type": "markdown",
   "metadata": {},
   "source": [
    "### Preprocessing\n",
    "Read the data in, convert dates to a useful format, and dump it back out for faster hard drive reads later"
   ]
  },
  {
   "cell_type": "code",
   "execution_count": 10,
   "metadata": {
    "collapsed": false
   },
   "outputs": [],
   "source": [
    "data_loc = \"/media/dan/Storage/market_data/\"\n",
    "store = pd.HDFStore('/media/dan/Storage/market_data.h5')\n",
    "\n",
    "# read in a symbols file\n",
    "def get_symbol(symbol, start_date=None, end_date=None, daily=False):\n",
    "    pickle_file = data_loc+symbol+'/'+symbol+'.pkl'\n",
    "    if os.path.isfile(pickle_file):\n",
    "        print(\"Reading\", symbol, \"from pickle\")\n",
    "        df = pd.read_pickle(pickle_file)\n",
    "    else:\n",
    "        try:\n",
    "            df = pd.read_csv(data_loc+symbol+'\\\\'+symbol+'.txt', dtype={'Time': object})\n",
    "        except:\n",
    "            print(\"failed to read in \",symbol)\n",
    "            return None\n",
    "        \n",
    "    # Make a nice date time column\n",
    "    #df['timestamp'] = df.apply(lambda x: pd.to_datetime(x['Date']+\" \"+x['Time'][:2]+':'+x['Time'][2:]), axis=1)\n",
    "    if not os.path.isfile(pickle_file):\n",
    "        df['timestamp'] = pd.to_datetime(df['Date']+\" \"+ df['Time'], format=\"%m/%d/%Y %H%M\")\n",
    "        df.set_index('timestamp', drop=False, inplace=True)\n",
    "        df.drop(['Date', 'Time'], axis=1, inplace=True)\n",
    "    \n",
    "    if start_date and end_date:\n",
    "        return df[( (df['timestamp'] >= pd.to_datetime(start_date)) & (df['timestamp'] <= pd.to_datetime(end_date)))]\n",
    "    else:\n",
    "        return df\n",
    "    \n",
    "def get_symbols(syms, start_date, end_date, price='Open', daily=False):\n",
    "    df = pd.DataFrame(columns=syms)\n",
    "    for sym in syms:\n",
    "        sym_df = get_symbol(sym, start_date, end_date)\n",
    "        if not sym_df is None:\n",
    "            df[sym] = sym_df[price]\n",
    "            print(sym, \"has been read in\")\n",
    "        else:\n",
    "            df.drop(sym, axis=1, inplace=True)\n",
    "    return df\n",
    "\n",
    "def check_integrity(sym):\n",
    "    start_time = sym.iloc[-1]['timestamp']\n",
    "    end_time = sym.iloc[-1]['timestamp']\n",
    "    print(\"Start date: \", start_time)\n",
    "    print('End date: ', end_time)\n",
    "    print('Number of missing prices: ')\n",
    "    \n",
    "    # A good way to check for full data in a trading day\n",
    "    print(sym.groupby(sym.timestamp.dt.date).count() == 390)"
   ]
  },
  {
   "cell_type": "code",
   "execution_count": null,
   "metadata": {
    "collapsed": false
   },
   "outputs": [],
   "source": []
  },
  {
   "cell_type": "code",
   "execution_count": 12,
   "metadata": {
    "collapsed": false,
    "scrolled": true
   },
   "outputs": [
    {
     "name": "stdout",
     "output_type": "stream",
     "text": [
      "Reading AAPL from pickle\n"
     ]
    },
    {
     "data": {
      "text/plain": [
       "[<matplotlib.lines.Line2D at 0x7fea03410b70>]"
      ]
     },
     "execution_count": 12,
     "metadata": {},
     "output_type": "execute_result"
    },
    {
     "data": {
      "image/png": "[encoded data removed]",
      "text/plain": [
       "<matplotlib.figure.Figure at 0x7fea034c6d68>"
      ]
     },
     "metadata": {},
     "output_type": "display_data"
    }
   ],
   "source": [
    "aapl = get_symbol(\"AAPL\")\n",
    "\n",
    "plt.plot(aapl['Close'])"
   ]
  },
  {
   "cell_type": "code",
   "execution_count": null,
   "metadata": {
    "collapsed": false
   },
   "outputs": [],
   "source": []
  },
  {
   "cell_type": "code",
   "execution_count": null,
   "metadata": {
    "collapsed": false
   },
   "outputs": [],
   "source": []
  },
  {
   "cell_type": "code",
   "execution_count": null,
   "metadata": {
    "collapsed": false
   },
   "outputs": [],
   "source": []
  },
  {
   "cell_type": "code",
   "execution_count": null,
   "metadata": {
    "collapsed": true
   },
   "outputs": [],
   "source": []
  },
  {
   "cell_type": "code",
   "execution_count": null,
   "metadata": {
    "collapsed": true
   },
   "outputs": [],
   "source": []
  },
  {
   "cell_type": "code",
   "execution_count": null,
   "metadata": {
    "collapsed": true
   },
   "outputs": [],
   "source": []
  }
 ],
 "metadata": {
  "anaconda-cloud": {},
  "kernelspec": {
   "display_name": "Python [conda root]",
   "language": "python",
   "name": "conda-root-py"
  },
  "language_info": {
   "codemirror_mode": {
    "name": "ipython",
    "version": 3
   },
   "file_extension": ".py",
   "mimetype": "text/x-python",
   "name": "python",
   "nbconvert_exporter": "python",
   "pygments_lexer": "ipython3",
   "version": "3.5.2"
  }
 },
 "nbformat": 4,
 "nbformat_minor": 0
}
