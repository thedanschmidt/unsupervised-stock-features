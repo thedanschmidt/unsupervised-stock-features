{
 "cells": [
  {
   "cell_type": "markdown",
   "metadata": {},
   "source": [
    "# Autoencoder on Stock Market Data\n",
    "### Dan Schmidt's Script Fall 2016"
   ]
  },
  {
   "cell_type": "code",
   "execution_count": 2,
   "metadata": {
    "collapsed": true
   },
   "outputs": [],
   "source": [
    "import pandas as pd\n",
    "import numpy as np\n",
    "import matplotlib.pyplot as plt\n",
    "import os.path\n",
    "from IPython.core.debugger import Tracer\n",
    "import scipy as sp\n",
    "import scipy.sparse \n",
    "import scipy.sparse.linalg\n",
    "from sklearn.decomposition import PCA\n",
    "from sklearn import cluster\n",
    "%matplotlib inline"
   ]
  },
  {
   "cell_type": "code",
   "execution_count": 4,
   "metadata": {
    "collapsed": true
   },
   "outputs": [],
   "source": [
    "def get_symbol(symbol, start_date=None, end_date=None, daily=False):\n",
    "    pickle_file = data_loc+symbol+'\\\\'+symbol+'.pkl'\n",
    "    if os.path.isfile(pickle_file):\n",
    "        print(\"Reading\", symbol, \"from pickle\")\n",
    "        df = pd.read_pickle(pickle_file)\n",
    "    else:\n",
    "        try:\n",
    "            df = pd.read_csv(data_loc+symbol+'\\\\'+symbol+'.txt', dtype={'Time': object})\n",
    "        except:\n",
    "            print(\"failed to read in \",symbol)\n",
    "            return None\n",
    "        \n",
    "    # Make a nice date time column\n",
    "    #df['timestamp'] = df.apply(lambda x: pd.to_datetime(x['Date']+\" \"+x['Time'][:2]+':'+x['Time'][2:]), axis=1)\n",
    "    if not os.path.isfile(pickle_file):\n",
    "        df['timestamp'] = pd.to_datetime(df['Date']+\" \"+ df['Time'], format=\"%m/%d/%Y %H%M\")\n",
    "        df.set_index('timestamp', drop=False, inplace=True)\n",
    "        df.drop(['Date', 'Time'], axis=1, inplace=True)\n",
    "        print(\"Dumping\", symbol, \"to pickle\")\n",
    "        df.to_pickle(pickle_file)\n",
    "    \n",
    "    if start_date and end_date:\n",
    "        return df[( (df['timestamp'] >= pd.to_datetime(start_date)) & (df['timestamp'] <= pd.to_datetime(end_date)))]\n",
    "    else:\n",
    "        return df"
   ]
  },
  {
   "cell_type": "markdown",
   "metadata": {},
   "source": [
    "### Preprocessing\n",
    "Read the data in, convert dates to a useful format, and dump it back out for faster hard drive reads later"
   ]
  },
  {
   "cell_type": "code",
   "execution_count": 5,
   "metadata": {
    "collapsed": false,
    "scrolled": true
   },
   "outputs": [
    {
     "name": "stdout",
     "output_type": "stream",
     "text": [
      "Reading AAPL from pickle\n"
     ]
    },
    {
     "data": {
      "image/png": "[encoded data removed]",
      "text/plain": [
       "<matplotlib.figure.Figure at 0x27804b6a0b8>"
      ]
     },
     "metadata": {},
     "output_type": "display_data"
    }
   ],
   "source": [
    "data_loc = \"C:\\\\Users\\\\Dan\\\\Documents\\\\mldata\\\\market_data\\\\\"\n",
    "# read in a symbols file, in this case rough SP500 sorted by \n",
    "\n",
    "#store = pd.HDFStore(data_loc+'market_data.h5')\n",
    "\n",
    "# for now, just play with AAPL\n",
    "aapl = get_symbol('AAPL')\n",
    "\n",
    "plt.plot(aapl['timestamp'], aapl['Open'])\n",
    "plt.show()\n",
    "\n",
    "def window_stack(a, stepsize=1, width=3):\n",
    "    return np.hstack( a[i:1+i-width or None:stepsize] for i in range(0,width) )\n",
    "\n",
    "# Filter a price file by missing minutes\n",
    "def day_filter(df, missing_minutes=10):\n",
    "    gb = df.groupby(df.timestamp.dt.date).filter(lambda x: len(x) > 390-missing_minutes)\n",
    "    return gb.fillna(method='ffill', axis=0)\n",
    "\n",
    "def train_autoencoder(sym, start_date, end_date):\n",
    "    df = sym[(sym.timestamp > start_date) & (sym.timestamp < end_date) ]\n",
    "    df = day_filter(df)\n",
    "    \n",
    "    \n",
    "\n"
   ]
  },
  {
   "cell_type": "markdown",
   "metadata": {},
   "source": [
    "   ### The functions for training out RBM model"
   ]
  },
  {
   "cell_type": "code",
   "execution_count": 29,
   "metadata": {
    "collapsed": false
   },
   "outputs": [
    {
     "name": "stdout",
     "output_type": "stream",
     "text": [
      "97530\n",
      "97110\n",
      "                       Open    High     Low   Close  Volume  \\\n",
      "timestamp                                                     \n",
      "2015-11-27 09:30:00  116.16  116.43  116.15  116.28  473166   \n",
      "2015-11-27 09:31:00  116.25  116.32  116.08  116.08  102458   \n",
      "2015-11-27 09:32:00  116.09  116.29  116.03  116.24  123966   \n",
      "2015-11-27 09:33:00  116.22  116.30  116.19  116.24   53853   \n",
      "2015-11-27 09:34:00  116.23  116.25  116.08  116.08   59787   \n",
      "2015-11-27 09:35:00  116.07  116.16  116.00  116.03  112703   \n",
      "2015-11-27 09:36:00  116.01  116.09  115.88  115.91  118111   \n",
      "2015-11-27 09:37:00  115.90  115.94  115.82  115.93  101317   \n",
      "2015-11-27 09:38:00  115.93  115.93  115.72  115.86  123185   \n",
      "2015-11-27 09:39:00  115.86  115.92  115.78  115.85   69195   \n",
      "2015-11-27 09:40:00  115.84  115.99  115.82  115.87   80359   \n",
      "2015-11-27 09:41:00  115.87  115.87  115.69  115.74   85926   \n",
      "2015-11-27 09:42:00  115.76  115.93  115.76  115.84   82256   \n",
      "2015-11-27 09:43:00  115.84  115.87  115.75  115.78   88827   \n",
      "2015-11-27 09:44:00  115.78  115.82  115.72  115.73   86394   \n",
      "2015-11-27 09:45:00  115.73  115.85  115.72  115.82   84009   \n",
      "2015-11-27 09:46:00  115.82  115.89  115.77  115.88   82053   \n",
      "2015-11-27 09:47:00  115.86  115.97  115.82  115.88  105928   \n",
      "2015-11-27 09:48:00  115.88  115.88  115.68  115.68   86160   \n",
      "2015-11-27 09:49:00  115.68  115.74  115.64  115.68  110434   \n",
      "2015-11-27 09:50:00  115.68  115.73  115.65  115.71   44979   \n",
      "2015-11-27 09:51:00  115.69  115.74  115.67  115.72   84192   \n",
      "2015-11-27 09:52:00  115.72  115.75  115.68  115.75   37596   \n",
      "2015-11-27 09:53:00  115.73  115.79  115.69  115.74   49468   \n",
      "2015-11-27 09:54:00  115.74  115.89  115.74  115.78   73465   \n",
      "2015-11-27 09:55:00  115.79  115.80  115.69  115.79   68441   \n",
      "2015-11-27 09:56:00  115.79  115.82  115.63  115.81  134883   \n",
      "2015-11-27 09:57:00  115.81  115.98  115.77  115.97  149690   \n",
      "2015-11-27 09:58:00  115.95  115.96  115.83  115.84   70482   \n",
      "2015-11-27 09:59:00  115.84  115.95  115.84  115.90   49695   \n",
      "...                     ...     ...     ...     ...     ...   \n",
      "2015-12-24 12:30:00  106.59  106.60  106.57  106.58   35623   \n",
      "2015-12-24 12:31:00  106.58  106.58  106.57  106.58   50400   \n",
      "2015-12-24 12:32:00  106.58  106.60  106.57  106.58   39116   \n",
      "2015-12-24 12:33:00  106.58  106.60  106.58  106.59   70546   \n",
      "2015-12-24 12:34:00  106.59  106.60  106.56  106.56   60727   \n",
      "2015-12-24 12:35:00  106.55  106.55  106.50  106.53   64454   \n",
      "2015-12-24 12:36:00  106.53  106.55  106.51  106.51   31684   \n",
      "2015-12-24 12:37:00  106.51  106.53  106.50  106.50   50577   \n",
      "2015-12-24 12:38:00  106.50  106.51  106.42  106.43   55525   \n",
      "2015-12-24 12:39:00  106.42  106.43  106.39  106.41   52929   \n",
      "2015-12-24 12:40:00  106.42  106.43  106.41  106.42   26894   \n",
      "2015-12-24 12:41:00  106.42  106.43  106.36  106.38   47814   \n",
      "2015-12-24 12:42:00  106.38  106.41  106.37  106.37   34373   \n",
      "2015-12-24 12:43:00  106.36  106.37  106.29  106.31   82815   \n",
      "2015-12-24 12:44:00  106.30  106.38  106.30  106.37   61671   \n",
      "2015-12-24 12:45:00  106.37  106.39  106.33  106.36   58557   \n",
      "2015-12-24 12:46:00  106.36  106.41  106.35  106.41   31926   \n",
      "2015-12-24 12:47:00  106.41  106.43  106.37  106.37   70813   \n",
      "2015-12-24 12:48:00  106.38  106.41  106.37  106.39   16062   \n",
      "2015-12-24 12:49:00  106.39  106.42  106.36  106.36   55227   \n",
      "2015-12-24 12:50:00  106.37  106.39  106.29  106.33   82671   \n",
      "2015-12-24 12:51:00  106.33  106.35  106.28  106.34   55981   \n",
      "2015-12-24 12:52:00  106.34  106.40  106.31  106.34   67212   \n",
      "2015-12-24 12:53:00  106.34  106.38  106.33  106.37   38215   \n",
      "2015-12-24 12:54:00  106.36  106.38  106.33  106.37   32991   \n",
      "2015-12-24 12:55:00  106.36  106.37  106.25  106.26   62461   \n",
      "2015-12-24 12:56:00  106.26  106.26  106.20  106.23  116722   \n",
      "2015-12-24 12:57:00  106.22  106.23  106.15  106.19  221479   \n",
      "2015-12-24 12:58:00  106.19  106.25  106.19  106.23   88135   \n",
      "2015-12-24 12:59:00  106.22  106.30  106.21  106.22  168019   \n",
      "\n",
      "                              timestamp  \n",
      "timestamp                                \n",
      "2015-11-27 09:30:00 2015-11-27 09:30:00  \n",
      "2015-11-27 09:31:00 2015-11-27 09:31:00  \n",
      "2015-11-27 09:32:00 2015-11-27 09:32:00  \n",
      "2015-11-27 09:33:00 2015-11-27 09:33:00  \n",
      "2015-11-27 09:34:00 2015-11-27 09:34:00  \n",
      "2015-11-27 09:35:00 2015-11-27 09:35:00  \n",
      "2015-11-27 09:36:00 2015-11-27 09:36:00  \n",
      "2015-11-27 09:37:00 2015-11-27 09:37:00  \n",
      "2015-11-27 09:38:00 2015-11-27 09:38:00  \n",
      "2015-11-27 09:39:00 2015-11-27 09:39:00  \n",
      "2015-11-27 09:40:00 2015-11-27 09:40:00  \n",
      "2015-11-27 09:41:00 2015-11-27 09:41:00  \n",
      "2015-11-27 09:42:00 2015-11-27 09:42:00  \n",
      "2015-11-27 09:43:00 2015-11-27 09:43:00  \n",
      "2015-11-27 09:44:00 2015-11-27 09:44:00  \n",
      "2015-11-27 09:45:00 2015-11-27 09:45:00  \n",
      "2015-11-27 09:46:00 2015-11-27 09:46:00  \n",
      "2015-11-27 09:47:00 2015-11-27 09:47:00  \n",
      "2015-11-27 09:48:00 2015-11-27 09:48:00  \n",
      "2015-11-27 09:49:00 2015-11-27 09:49:00  \n",
      "2015-11-27 09:50:00 2015-11-27 09:50:00  \n",
      "2015-11-27 09:51:00 2015-11-27 09:51:00  \n",
      "2015-11-27 09:52:00 2015-11-27 09:52:00  \n",
      "2015-11-27 09:53:00 2015-11-27 09:53:00  \n",
      "2015-11-27 09:54:00 2015-11-27 09:54:00  \n",
      "2015-11-27 09:55:00 2015-11-27 09:55:00  \n",
      "2015-11-27 09:56:00 2015-11-27 09:56:00  \n",
      "2015-11-27 09:57:00 2015-11-27 09:57:00  \n",
      "2015-11-27 09:58:00 2015-11-27 09:58:00  \n",
      "2015-11-27 09:59:00 2015-11-27 09:59:00  \n",
      "...                                 ...  \n",
      "2015-12-24 12:30:00 2015-12-24 12:30:00  \n",
      "2015-12-24 12:31:00 2015-12-24 12:31:00  \n",
      "2015-12-24 12:32:00 2015-12-24 12:32:00  \n",
      "2015-12-24 12:33:00 2015-12-24 12:33:00  \n",
      "2015-12-24 12:34:00 2015-12-24 12:34:00  \n",
      "2015-12-24 12:35:00 2015-12-24 12:35:00  \n",
      "2015-12-24 12:36:00 2015-12-24 12:36:00  \n",
      "2015-12-24 12:37:00 2015-12-24 12:37:00  \n",
      "2015-12-24 12:38:00 2015-12-24 12:38:00  \n",
      "2015-12-24 12:39:00 2015-12-24 12:39:00  \n",
      "2015-12-24 12:40:00 2015-12-24 12:40:00  \n",
      "2015-12-24 12:41:00 2015-12-24 12:41:00  \n",
      "2015-12-24 12:42:00 2015-12-24 12:42:00  \n",
      "2015-12-24 12:43:00 2015-12-24 12:43:00  \n",
      "2015-12-24 12:44:00 2015-12-24 12:44:00  \n",
      "2015-12-24 12:45:00 2015-12-24 12:45:00  \n",
      "2015-12-24 12:46:00 2015-12-24 12:46:00  \n",
      "2015-12-24 12:47:00 2015-12-24 12:47:00  \n",
      "2015-12-24 12:48:00 2015-12-24 12:48:00  \n",
      "2015-12-24 12:49:00 2015-12-24 12:49:00  \n",
      "2015-12-24 12:50:00 2015-12-24 12:50:00  \n",
      "2015-12-24 12:51:00 2015-12-24 12:51:00  \n",
      "2015-12-24 12:52:00 2015-12-24 12:52:00  \n",
      "2015-12-24 12:53:00 2015-12-24 12:53:00  \n",
      "2015-12-24 12:54:00 2015-12-24 12:54:00  \n",
      "2015-12-24 12:55:00 2015-12-24 12:55:00  \n",
      "2015-12-24 12:56:00 2015-12-24 12:56:00  \n",
      "2015-12-24 12:57:00 2015-12-24 12:57:00  \n",
      "2015-12-24 12:58:00 2015-12-24 12:58:00  \n",
      "2015-12-24 12:59:00 2015-12-24 12:59:00  \n",
      "\n",
      "[420 rows x 6 columns]\n"
     ]
    }
   ],
   "source": [
    "aapl2014 = aapl[ (aapl.timestamp > '01/01/2015') & (aapl.timestamp < '12/31/2015') ]\n",
    "gb = aapl2014.groupby(aapl2014.timestamp.dt.date).filter(lambda x: len(x) > 380)\n",
    "ex = aapl2014.groupby(aapl2014.timestamp.dt.date).filter(lambda x: len(x) <= 380)\n",
    "print(len(aapl2014))\n",
    "print(len(gb))\n",
    "print(ex)"
   ]
  },
  {
   "cell_type": "markdown",
   "metadata": {
    "collapsed": false
   },
   "source": [
    "### Run SVD on time series"
   ]
  },
  {
   "cell_type": "code",
   "execution_count": null,
   "metadata": {
    "collapsed": false
   },
   "outputs": [],
   "source": []
  },
  {
   "cell_type": "code",
   "execution_count": 18,
   "metadata": {
    "collapsed": false
   },
   "outputs": [],
   "source": [
    "store = pd.HDFStore(data_loc+'market_data.h5')\n",
    "\n",
    "# Quick test of how fast to read in symbols\n",
    "syms = store['symbol_groups/sp500']\n",
    "\n",
    "cov = pd.DataFrame(columns=syms)\n",
    "for s in syms:\n",
    "    sym = store['symbols/'+s]\n",
    "    sym = sym[ (sym.timestamp > '01/01/2015') & (sym.timestamp < '12/31/2015') ]\n",
    "    cov[s] = sym['Open']\n",
    "    \n",
    "store.close()"
   ]
  },
  {
   "cell_type": "code",
   "execution_count": 20,
   "metadata": {
    "collapsed": false
   },
   "outputs": [
    {
     "data": {
      "text/plain": [
       "(97525, 502)"
      ]
     },
     "execution_count": 20,
     "metadata": {},
     "output_type": "execute_result"
    }
   ],
   "source": [
    "cov.shape"
   ]
  },
  {
   "cell_type": "code",
   "execution_count": null,
   "metadata": {
    "collapsed": false
   },
   "outputs": [],
   "source": []
  },
  {
   "cell_type": "code",
   "execution_count": null,
   "metadata": {
    "collapsed": false
   },
   "outputs": [],
   "source": []
  },
  {
   "cell_type": "code",
   "execution_count": null,
   "metadata": {
    "collapsed": false
   },
   "outputs": [],
   "source": []
  },
  {
   "cell_type": "code",
   "execution_count": null,
   "metadata": {
    "collapsed": true
   },
   "outputs": [],
   "source": []
  },
  {
   "cell_type": "code",
   "execution_count": null,
   "metadata": {
    "collapsed": false
   },
   "outputs": [],
   "source": []
  },
  {
   "cell_type": "code",
   "execution_count": null,
   "metadata": {
    "collapsed": true
   },
   "outputs": [],
   "source": []
  }
 ],
 "metadata": {
  "anaconda-cloud": {},
  "kernelspec": {
   "display_name": "Python [Root]",
   "language": "python",
   "name": "Python [Root]"
  },
  "language_info": {
   "codemirror_mode": {
    "name": "ipython",
    "version": 3
   },
   "file_extension": ".py",
   "mimetype": "text/x-python",
   "name": "python",
   "nbconvert_exporter": "python",
   "pygments_lexer": "ipython3",
   "version": "3.5.2"
  }
 },
 "nbformat": 4,
 "nbformat_minor": 0
}
